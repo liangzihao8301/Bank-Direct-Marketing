{
 "cells": [
  {
   "cell_type": "code",
   "execution_count": null,
   "id": "f181565f",
   "metadata": {},
   "outputs": [],
   "source": [
    "#labelencoder, colsample_bytree=0.8\n",
    "#private Score: 0.86488, Public score: 0.87923\n",
    "#增加total_contact、contact_diff\n",
    "#Private score: 0.86355，Public score: 0.87676\n",
    "#保留RecordID\n",
    "#Private score: 0.85822，Public score: 0.86590\n",
    "        \n",
    "#targetencoder\n",
    "#private Score: 0.86577, Public score: 0.87771\n",
    "#增加total_contact、contact_diff\n",
    "#Private score: 0.86622, Public score: 0.87790\n",
    "#保留RecordID\n",
    "#Private score: 0.86888，Public score: 0.88209\n",
    "#使用全部数据训练，不做train_test_split\n",
    "#*Private score: 0.87111，Public score: 0.88209\n",
    "\n",
    "#onehot + XGBoost\n",
    "#Private score: 0.86666, Public score: 0.87847\n",
    "#tree_method = 'hist'\n",
    "#Private score: 0.86400, Public score: 0.87904\n",
    "#tree_method = 'hist', subsample=1\n",
    "#Private score: 0.86666, Public score: 0.87771\n",
    "#增加total_contact、contact_diff\n",
    "#Private score: 0.86711, Public score: 0.87828\n",
    "#增加total_contact、contact_diff, subsample=1, 不使用tree_method = 'hist'\n",
    "#Private score: 0.86577, Public score: 0.87790\n",
    "#改回subsample=0.8, \n",
    "#Private score: 0.86844, Public score: 0.87733\n",
    "#改回subsample=0.8,tree_method = 'hist'\n",
    "#Private score: 0.86622, Public score: 0.87676\n",
    "#保留RecordID\n",
    "#Private score: 0.86800，Public score: 0.88514\n",
    "#使用全部数据训练，不做train_test_split\n",
    "#Private score: 0.86977，Public score: 0.88228\n"
   ]
  },
  {
   "cell_type": "code",
   "execution_count": 1,
   "id": "323826f4",
   "metadata": {},
   "outputs": [],
   "source": [
    "import pandas as pd\n",
    "import numpy as np\n",
    "%matplotlib inline\n",
    "import matplotlib # 注意这个也要import一次\n",
    "import matplotlib.pyplot as plt \n",
    "import seaborn as sns\n",
    "import pickle\n",
    "from sklearn import metrics\n",
    "from sklearn.metrics import roc_auc_score, accuracy_score, recall_score, mean_squared_error, roc_curve, auc\n",
    "from sklearn.model_selection import GridSearchCV\n",
    "from sklearn.model_selection import train_test_split\n",
    "from sklearn.model_selection import cross_val_score\n",
    "import lightgbm as lgb\n",
    "\n",
    "import warnings\n",
    "warnings.filterwarnings(\"ignore\")"
   ]
  },
  {
   "cell_type": "code",
   "execution_count": null,
   "id": "e6f229c0",
   "metadata": {},
   "outputs": [],
   "source": [
    "#加载数据\n",
    "train_data = pd.read_csv('./data/train.csv')\n",
    "test_data = pd.read_csv('./data/test.csv')"
   ]
  },
  {
   "cell_type": "code",
   "execution_count": null,
   "id": "51066f82",
   "metadata": {},
   "outputs": [],
   "source": [
    "datas = pd.concat([train_data, test_data], axis=0)"
   ]
  },
  {
   "cell_type": "code",
   "execution_count": null,
   "id": "3ec16a6d",
   "metadata": {},
   "outputs": [],
   "source": [
    "datas.columns"
   ]
  },
  {
   "cell_type": "code",
   "execution_count": null,
   "id": "9942e579",
   "metadata": {},
   "outputs": [],
   "source": [
    "cat_columns = datas.select_dtypes(include='O').columns"
   ]
  },
  {
   "cell_type": "code",
   "execution_count": null,
   "id": "b5bc6ad1",
   "metadata": {},
   "outputs": [],
   "source": [
    "cat_columns"
   ]
  },
  {
   "cell_type": "code",
   "execution_count": null,
   "id": "850a8151",
   "metadata": {},
   "outputs": [],
   "source": [
    "#观察分类特征与target的关联，关注一些重要特征\n",
    "sns.countplot(x='poutcome', hue = 'subscribe', data=train_data)\n",
    "#检查数据集是否平衡\n",
    "# sns.countplot(x='subscribe', data=train_data)"
   ]
  },
  {
   "cell_type": "markdown",
   "id": "061da871",
   "metadata": {},
   "source": [
    "### label encoder"
   ]
  },
  {
   "cell_type": "code",
   "execution_count": null,
   "id": "4b08db63",
   "metadata": {},
   "outputs": [],
   "source": [
    "datas['job'] = datas['job'].map({'unknown': 0, 'admin.': 1, 'services': 2, 'blue-collar': 3, 'entrepreneur': 4, 'management': 5,\n",
    "                  'technician': 6, 'housemaid': 7, 'self-employed': 8, 'unemployed': 9, 'retired': 10, 'student': 11})"
   ]
  },
  {
   "cell_type": "code",
   "execution_count": null,
   "id": "c6d7b765",
   "metadata": {},
   "outputs": [],
   "source": [
    "datas['marital'] = datas['marital'].map({'unknown': 0, 'divorced': 1, 'married': 2, 'single': 3})"
   ]
  },
  {
   "cell_type": "code",
   "execution_count": null,
   "id": "5670af00",
   "metadata": {},
   "outputs": [],
   "source": [
    "datas['education'] = datas['education'].map({'unknown': 0, 'illiterate': 1, 'basic.4y': 2, 'basic.6y': 3, 'basic.9y': 4,\n",
    "                                             'high.school': 5, 'university.degree': 6, 'professional.course': 7})"
   ]
  },
  {
   "cell_type": "code",
   "execution_count": null,
   "id": "5a1d904a",
   "metadata": {},
   "outputs": [],
   "source": [
    "datas['default'] = datas['default'].map({'unknown': 0, 'no': 1, 'yes': 2})"
   ]
  },
  {
   "cell_type": "code",
   "execution_count": null,
   "id": "ec64717b",
   "metadata": {},
   "outputs": [],
   "source": [
    "datas['housing'] = datas['housing'].map({'unknown': 0, 'no': 1, 'yes': 2})"
   ]
  },
  {
   "cell_type": "code",
   "execution_count": null,
   "id": "53da6b21",
   "metadata": {},
   "outputs": [],
   "source": [
    "datas['loan'] = datas['loan'].map({'unknown': 0, 'no': 1, 'yes': 2})"
   ]
  },
  {
   "cell_type": "code",
   "execution_count": null,
   "id": "e8b4a00c",
   "metadata": {},
   "outputs": [],
   "source": [
    "datas['contact'] = datas['contact'].map({'cellular': 0, 'telephone': 1})"
   ]
  },
  {
   "cell_type": "code",
   "execution_count": null,
   "id": "a560b584",
   "metadata": {},
   "outputs": [],
   "source": [
    "datas['month'] = datas['month'].map({'mar':3, 'apr': 4, 'may': 5, 'jun': 6, 'jul':7, 'aug':8, 'sep':9, 'oct':10, 'nov': 11, 'dec': 12})"
   ]
  },
  {
   "cell_type": "code",
   "execution_count": null,
   "id": "430426c6",
   "metadata": {},
   "outputs": [],
   "source": [
    "datas['day_of_week'] = datas['day_of_week'].map({'mon': 0, 'tue': 1, 'wed': 2, 'thu': 3, 'fri': 4})"
   ]
  },
  {
   "cell_type": "code",
   "execution_count": null,
   "id": "5aa350a6",
   "metadata": {},
   "outputs": [],
   "source": [
    "datas['poutcome'] = datas['poutcome'].map({'nonexistent': 0, 'failure': 1, 'success': 2})"
   ]
  },
  {
   "cell_type": "code",
   "execution_count": null,
   "id": "c704e628",
   "metadata": {},
   "outputs": [],
   "source": [
    "datas['subscribe'] = datas['subscribe'].map({'no': 0, 'yes': 1})"
   ]
  },
  {
   "cell_type": "code",
   "execution_count": null,
   "id": "b2284e83",
   "metadata": {},
   "outputs": [],
   "source": [
    "#去掉ID\n",
    "# datas.drop(['RecordID'], axis=1, inplace=True)"
   ]
  },
  {
   "cell_type": "markdown",
   "id": "1066d264",
   "metadata": {},
   "source": [
    "## 特征工程"
   ]
  },
  {
   "cell_type": "code",
   "execution_count": null,
   "id": "c152b5f4",
   "metadata": {},
   "outputs": [],
   "source": [
    "datas['total_contact'] = datas['campaign'] + datas['previous']\n",
    "datas['contact_diff'] = datas['campaign'] - datas['previous']"
   ]
  },
  {
   "cell_type": "code",
   "execution_count": null,
   "id": "dbeb9669",
   "metadata": {},
   "outputs": [],
   "source": [
    "# 数据集切分\n",
    "train = datas[datas['subscribe'].notnull()]\n",
    "test = datas[datas['subscribe'].isnull()]"
   ]
  },
  {
   "cell_type": "code",
   "execution_count": null,
   "id": "9eff8dea",
   "metadata": {},
   "outputs": [],
   "source": [
    "train_X = train.drop(['subscribe'], axis=1)\n",
    "train_y = train['subscribe']\n",
    "test_X = test.drop(['subscribe'], axis=1)"
   ]
  },
  {
   "cell_type": "code",
   "execution_count": null,
   "id": "390b5f6e",
   "metadata": {},
   "outputs": [],
   "source": [
    "#增加检验\n",
    "train_X,eval_X,train_y,eval_y = train_test_split(train_X, train_y, test_size=0.2, random_state=2022, stratify=train_y)"
   ]
  },
  {
   "cell_type": "markdown",
   "id": "74475583",
   "metadata": {},
   "source": [
    "## 使用lgbm 训练"
   ]
  },
  {
   "cell_type": "code",
   "execution_count": null,
   "id": "2a2a3331",
   "metadata": {},
   "outputs": [],
   "source": [
    "import lightgbm as lgb"
   ]
  },
  {
   "cell_type": "code",
   "execution_count": null,
   "id": "b62f7c48",
   "metadata": {},
   "outputs": [],
   "source": [
    "model_lgb = lgb.LGBMClassifier(\n",
    "            num_leaves=2**5-1, reg_alpha=0.25, reg_lambda=0.25, objective='binary', metric = 'binary_logloss,auc',\n",
    "            max_depth=-1, learning_rate=0.005, min_child_samples=3, random_state=2022,\n",
    "            n_estimators=2000, subsample=1, colsample_bytree=0.8,\n",
    "        )"
   ]
  },
  {
   "cell_type": "code",
   "execution_count": null,
   "id": "f7dfca00",
   "metadata": {},
   "outputs": [],
   "source": [
    "model_lgb.fit(train_X, train_y, eval_set=(eval_X, eval_y), #categorical_feature = cat_columns.values.tolist(),\n",
    "              early_stopping_rounds = 200)\n",
    "\n",
    "# model_lgb.fit(train_X, train_y)"
   ]
  },
  {
   "cell_type": "code",
   "execution_count": null,
   "id": "8b66d1ed",
   "metadata": {},
   "outputs": [],
   "source": [
    "fig, ax = plt.subplots(figsize=(6,18))\n",
    "lgb.plot_importance(model_lgb, max_num_features=70, ax = ax)"
   ]
  },
  {
   "cell_type": "code",
   "execution_count": null,
   "id": "1d368b74",
   "metadata": {},
   "outputs": [],
   "source": [
    "y_pred = model_lgb.predict(test_X )#[:, 1]"
   ]
  },
  {
   "cell_type": "code",
   "execution_count": null,
   "id": "33db58fb",
   "metadata": {},
   "outputs": [],
   "source": [
    "subscribe_map = {0: 'no', 1: 'yes'}"
   ]
  },
  {
   "cell_type": "code",
   "execution_count": null,
   "id": "12800d6f",
   "metadata": {},
   "outputs": [],
   "source": [
    "submission = pd.read_csv('./data/sample_submission.csv')\n",
    "submission['subscribe'] = [subscribe_map[x] for x in y_pred]\n",
    "submission.to_csv('./submission/submission.csv', index=None)"
   ]
  },
  {
   "cell_type": "markdown",
   "id": "23fedaa5",
   "metadata": {},
   "source": [
    "## targetencoser"
   ]
  },
  {
   "cell_type": "code",
   "execution_count": null,
   "id": "bd80034e",
   "metadata": {},
   "outputs": [],
   "source": [
    "train2 = train_data.copy()\n",
    "test2 = test_data.copy()"
   ]
  },
  {
   "cell_type": "code",
   "execution_count": null,
   "id": "fcc5fb05",
   "metadata": {},
   "outputs": [],
   "source": [
    "train2['subscribe'] = train2['subscribe'].map({'no': 0, 'yes': 1})"
   ]
  },
  {
   "cell_type": "code",
   "execution_count": null,
   "id": "3970c550",
   "metadata": {},
   "outputs": [],
   "source": [
    "cat_columns = test_data.select_dtypes(include='O').columns"
   ]
  },
  {
   "cell_type": "code",
   "execution_count": null,
   "id": "572443d5",
   "metadata": {},
   "outputs": [],
   "source": [
    "for col in cat_columns:\n",
    "    temp = train2.groupby(col)['subscribe'].agg(['mean', 'std', 'count']).reset_index()\n",
    "    temp.columns = [col, col + '_mean', col + '_std', col + '_count']\n",
    "    train2 = train2.merge(temp, on=col, how= 'left')\n",
    "    test2 = test2.merge(temp, on=col, how= 'left')"
   ]
  },
  {
   "cell_type": "code",
   "execution_count": null,
   "id": "a05c72a8",
   "metadata": {},
   "outputs": [],
   "source": [
    "# train2.drop(columns=['RecordID'], inplace=True)\n",
    "train2.drop(columns=cat_columns, inplace=True)\n",
    "\n",
    "# test2.drop(columns=['RecordID'], inplace=True)\n",
    "test2.drop(columns=cat_columns, inplace=True)"
   ]
  },
  {
   "cell_type": "code",
   "execution_count": null,
   "id": "98602afd",
   "metadata": {},
   "outputs": [],
   "source": [
    "train2['total_contact'] = train2['campaign'] + train2['previous']\n",
    "train2['contact_diff'] = train2['campaign'] - train2['previous']\n",
    "\n",
    "test2['total_contact'] = test2['campaign'] + test2['previous']\n",
    "test2['contact_diff'] = test2['campaign'] - test2['previous']"
   ]
  },
  {
   "cell_type": "code",
   "execution_count": null,
   "id": "25f25ba8",
   "metadata": {},
   "outputs": [],
   "source": [
    "train2_X = train2.drop(['subscribe'], axis=1)\n",
    "train2_y = train2['subscribe']\n",
    "test2_X = test2"
   ]
  },
  {
   "cell_type": "code",
   "execution_count": null,
   "id": "38ce9fff",
   "metadata": {},
   "outputs": [],
   "source": [
    "#增加检验\n",
    "train2_X,eval2_X,train2_y,eval2_y = train_test_split(train2_X, train2_y, test_size=0.2, random_state=2022, stratify=train2_y)"
   ]
  },
  {
   "cell_type": "code",
   "execution_count": null,
   "id": "92ea358c",
   "metadata": {},
   "outputs": [],
   "source": [
    "model_lgb = lgb.LGBMClassifier(\n",
    "            num_leaves=2**5-1, reg_alpha=0.25, reg_lambda=0.25, objective='binary', metric = 'binary_logloss,auc',\n",
    "            max_depth=-1, learning_rate=0.005, min_child_samples=3, random_state=2022,\n",
    "            n_estimators=2000, subsample=1, colsample_bytree=0.8,\n",
    "        )"
   ]
  },
  {
   "cell_type": "code",
   "execution_count": null,
   "id": "036df0d4",
   "metadata": {},
   "outputs": [],
   "source": [
    "model_lgb.fit(train2_X, train2_y, eval_set=(eval2_X, eval2_y), #categorical_feature = cat_columns.values.tolist(),\n",
    "              early_stopping_rounds = 200)\n",
    "\n",
    "# model_lgb.fit(train2_X, train2_y)"
   ]
  },
  {
   "cell_type": "code",
   "execution_count": null,
   "id": "182cf4d2",
   "metadata": {},
   "outputs": [],
   "source": [
    "fig, ax = plt.subplots(figsize=(6,18))\n",
    "lgb.plot_importance(model_lgb, max_num_features=70, ax = ax)"
   ]
  },
  {
   "cell_type": "code",
   "execution_count": null,
   "id": "29d15a11",
   "metadata": {},
   "outputs": [],
   "source": [
    "y_pred = model_lgb.predict(test2_X )#[:, 1]"
   ]
  },
  {
   "cell_type": "code",
   "execution_count": null,
   "id": "f15ee747",
   "metadata": {},
   "outputs": [],
   "source": [
    "subscribe_map = {0: 'no', 1: 'yes'}\n",
    "submission = pd.read_csv('./data/sample_submission.csv')\n",
    "submission['subscribe'] = [subscribe_map[x] for x in y_pred]\n",
    "submission.to_csv('./submission/submission_targetencoder.csv', index=None)"
   ]
  },
  {
   "cell_type": "markdown",
   "id": "54629907",
   "metadata": {},
   "source": [
    "## XGBoost + onehot encoder"
   ]
  },
  {
   "cell_type": "code",
   "execution_count": null,
   "id": "a02177d2",
   "metadata": {},
   "outputs": [],
   "source": [
    "datas3 = pd.concat([train_data, test_data], axis=0)"
   ]
  },
  {
   "cell_type": "code",
   "execution_count": null,
   "id": "e7278e97",
   "metadata": {},
   "outputs": [],
   "source": [
    "datas3['subscribe'] = datas3['subscribe'].map({'no': 0, 'yes': 1})"
   ]
  },
  {
   "cell_type": "code",
   "execution_count": null,
   "id": "c95ddc2e",
   "metadata": {},
   "outputs": [],
   "source": [
    "datas3 = pd.get_dummies(datas3)"
   ]
  },
  {
   "cell_type": "code",
   "execution_count": null,
   "id": "1c6d27de",
   "metadata": {},
   "outputs": [],
   "source": [
    "datas3"
   ]
  },
  {
   "cell_type": "code",
   "execution_count": null,
   "id": "13596605",
   "metadata": {},
   "outputs": [],
   "source": [
    "#去掉ID\n",
    "# datas3.drop(['RecordID'], axis=1, inplace=True)"
   ]
  },
  {
   "cell_type": "code",
   "execution_count": null,
   "id": "bd7a2a9d",
   "metadata": {},
   "outputs": [],
   "source": [
    "datas3['total_contact'] = datas3['campaign'] + datas3['previous']\n",
    "datas3['contact_diff'] = datas3['campaign'] - datas3['previous']"
   ]
  },
  {
   "cell_type": "code",
   "execution_count": null,
   "id": "285e7bbd",
   "metadata": {},
   "outputs": [],
   "source": [
    "# 数据集切分\n",
    "train3 = datas3[datas3['subscribe'].notnull()]\n",
    "test3 = datas3[datas3['subscribe'].isnull()]"
   ]
  },
  {
   "cell_type": "code",
   "execution_count": null,
   "id": "9c6f543b",
   "metadata": {},
   "outputs": [],
   "source": [
    "train3_X = train3.drop(['subscribe'], axis=1)\n",
    "train3_y = train3['subscribe']\n",
    "test3_X = test3.drop(['subscribe'], axis=1)"
   ]
  },
  {
   "cell_type": "code",
   "execution_count": null,
   "id": "1dbd35e7",
   "metadata": {},
   "outputs": [],
   "source": [
    "#增加检验\n",
    "train3_X,eval3_X,train3_y,eval3_y = train_test_split(train3_X, train3_y, test_size=0.2, random_state=2022, stratify=train3_y)"
   ]
  },
  {
   "cell_type": "code",
   "execution_count": null,
   "id": "c0b5ad72",
   "metadata": {},
   "outputs": [],
   "source": [
    "import xgboost as xgb\n",
    "\n",
    "model_xgb = xgb.XGBClassifier(\n",
    "            max_depth=6, learning_rate=0.05, n_estimators=2000, objective='binary:logistic', # tree_method='gpu_hist', \n",
    "            subsample=0.8, colsample_bytree=0.8, min_child_samples=3, eval_metric='auc', reg_lambda=0.5\n",
    "        )"
   ]
  },
  {
   "cell_type": "code",
   "execution_count": null,
   "id": "6c26ab3f",
   "metadata": {},
   "outputs": [],
   "source": [
    "model_xgb.fit(train3_X, train3_y, eval_set=[(eval3_X, eval3_y)], early_stopping_rounds = 200)\n",
    "\n",
    "# model_xgb.fit(train3_X, train3_y)"
   ]
  },
  {
   "cell_type": "code",
   "execution_count": null,
   "id": "f22034e9",
   "metadata": {},
   "outputs": [],
   "source": [
    "model_xgb.best_iteration, model_xgb.best_score"
   ]
  },
  {
   "cell_type": "code",
   "execution_count": null,
   "id": "c5f7019a",
   "metadata": {},
   "outputs": [],
   "source": [
    "fig, ax = plt.subplots(figsize=(6,18))\n",
    "xgb.plot_importance(model_xgb, max_num_features=70, ax = ax)"
   ]
  },
  {
   "cell_type": "code",
   "execution_count": null,
   "id": "75d971c5",
   "metadata": {},
   "outputs": [],
   "source": [
    "y_pred = model_xgb.predict(test3_X)#[:, 1]"
   ]
  },
  {
   "cell_type": "code",
   "execution_count": null,
   "id": "aa348f60",
   "metadata": {},
   "outputs": [],
   "source": [
    "subscribe_map = {0: 'no', 1: 'yes'}\n",
    "\n",
    "submission = pd.read_csv('./data/sample_submission.csv')\n",
    "submission['subscribe'] = [subscribe_map[x] for x in y_pred]\n",
    "submission.to_csv('./submission/submission_xgboost.csv', index=None)"
   ]
  },
  {
   "cell_type": "code",
   "execution_count": null,
   "id": "4d049b26",
   "metadata": {},
   "outputs": [],
   "source": []
  }
 ],
 "metadata": {
  "kernelspec": {
   "display_name": "Python 3 (ipykernel)",
   "language": "python",
   "name": "python3"
  },
  "language_info": {
   "codemirror_mode": {
    "name": "ipython",
    "version": 3
   },
   "file_extension": ".py",
   "mimetype": "text/x-python",
   "name": "python",
   "nbconvert_exporter": "python",
   "pygments_lexer": "ipython3",
   "version": "3.7.11"
  }
 },
 "nbformat": 4,
 "nbformat_minor": 5
}
