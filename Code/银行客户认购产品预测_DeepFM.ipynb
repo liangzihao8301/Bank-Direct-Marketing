{
 "cells": [
  {
   "cell_type": "code",
   "execution_count": 223,
   "id": "647eff00",
   "metadata": {},
   "outputs": [],
   "source": [
    "#label encoder, deepfm\n",
    "#Private score: 0.87022, Public score: 0.88019\n",
    "#去掉RecordID\n",
    "#Private score: 0.87777, Public score: 0.87523\n",
    "#不增加特征，稳定的validatdata，去掉RecordID\n",
    "#Private score: 0.86755, Public score: 0.87485\n",
    "#不增加特征，稳定的validatdata（会抖动）\n",
    "#Private Score: 0.87111, Public Score: 0.87904\n",
    "#PrivateScore: 0.87377, Public score: 0.87752*\n",
    "\n",
    "#targetencoder, deepFM\n",
    "#Private score: 0.86666, Public score: 0.87390\n",
    "\n",
    "#onehotencoder, deepFM\n",
    "#Private score: 0.85333, Public score: 0.87295"
   ]
  },
  {
   "cell_type": "code",
   "execution_count": 224,
   "id": "09c60787",
   "metadata": {},
   "outputs": [],
   "source": [
    "import pandas as pd\n",
    "import numpy as np\n",
    "%matplotlib inline\n",
    "import matplotlib # 注意这个也要import一次\n",
    "import matplotlib.pyplot as plt \n",
    "import seaborn as sns\n",
    "import pickle\n",
    "from sklearn import metrics\n",
    "from sklearn.metrics import roc_auc_score, accuracy_score, recall_score, mean_squared_error, roc_curve, auc, log_loss\n",
    "from sklearn.model_selection import GridSearchCV\n",
    "from sklearn.model_selection import train_test_split\n",
    "from sklearn.model_selection import cross_val_score\n",
    "from sklearn.preprocessing import LabelEncoder, MinMaxScaler\n",
    "\n",
    "from deepctr.models import DeepFM\n",
    "from deepctr.feature_column import SparseFeat, DenseFeat, get_feature_names\n",
    "\n",
    "import warnings\n",
    "warnings.filterwarnings(\"ignore\")"
   ]
  },
  {
   "cell_type": "code",
   "execution_count": 225,
   "id": "81d8aec2",
   "metadata": {},
   "outputs": [],
   "source": [
    "#加载数据\n",
    "train_data = pd.read_csv('./data/train.csv')\n",
    "test_data = pd.read_csv('./data/test.csv')"
   ]
  },
  {
   "cell_type": "code",
   "execution_count": 226,
   "id": "9e239ad7",
   "metadata": {},
   "outputs": [],
   "source": [
    "datas = pd.concat([train_data, test_data], axis=0)"
   ]
  },
  {
   "cell_type": "code",
   "execution_count": 227,
   "id": "c6373903",
   "metadata": {},
   "outputs": [],
   "source": [
    "#增加交叉特征\n",
    "# datas['total_contact'] = datas['campaign'] + datas['previous']\n",
    "# datas['contact_diff'] = datas['campaign'] - datas['previous']"
   ]
  },
  {
   "cell_type": "code",
   "execution_count": 228,
   "id": "f74f6800",
   "metadata": {},
   "outputs": [],
   "source": [
    "# datas.drop(columns=['RecordID'], inplace=True)"
   ]
  },
  {
   "cell_type": "code",
   "execution_count": 229,
   "id": "05a4304f",
   "metadata": {},
   "outputs": [],
   "source": [
    "datas['subscribe'] = datas['subscribe'].map({'no': 0, 'yes': 1})"
   ]
  },
  {
   "cell_type": "code",
   "execution_count": 230,
   "id": "19e5fb2d",
   "metadata": {},
   "outputs": [],
   "source": [
    "sparse_features = datas.select_dtypes(include='O').columns\n",
    "dense_features = datas.select_dtypes(exclude='O').columns"
   ]
  },
  {
   "cell_type": "code",
   "execution_count": 231,
   "id": "11780e91",
   "metadata": {},
   "outputs": [
    {
     "data": {
      "text/plain": [
       "Index(['RecordID', 'age', 'duration', 'campaign', 'pdays', 'previous',\n",
       "       'emp.var.rate', 'cons.price.idx', 'cons.conf.idx', 'euribor3m',\n",
       "       'nr.employed', 'subscribe'],\n",
       "      dtype='object')"
      ]
     },
     "execution_count": 231,
     "metadata": {},
     "output_type": "execute_result"
    }
   ],
   "source": [
    "dense_features"
   ]
  },
  {
   "cell_type": "code",
   "execution_count": 232,
   "id": "08baabb1",
   "metadata": {},
   "outputs": [],
   "source": [
    "dense_features = dense_features.delete(dense_features.get_loc('subscribe'))"
   ]
  },
  {
   "cell_type": "code",
   "execution_count": 233,
   "id": "64eb47a4",
   "metadata": {},
   "outputs": [],
   "source": [
    "#处理缺失值\n",
    "# data[sparse_features] = data[sparse_features].fillna('-1', )\n",
    "# data[dense_features] = data[dense_features].fillna(0, )"
   ]
  },
  {
   "cell_type": "code",
   "execution_count": 234,
   "id": "4ec8734e",
   "metadata": {},
   "outputs": [],
   "source": [
    "target = ['subscribe']"
   ]
  },
  {
   "cell_type": "code",
   "execution_count": 235,
   "id": "186555f3",
   "metadata": {},
   "outputs": [],
   "source": [
    "# 1.Label Encoding for sparse features,and do simple Transformation for dense features\n",
    "for feat in sparse_features:\n",
    "    lbe = LabelEncoder()\n",
    "    datas[feat] = lbe.fit_transform(datas[feat])\n",
    "    \n",
    "mms = MinMaxScaler(feature_range=(0, 1))\n",
    "datas[dense_features] = mms.fit_transform(datas[dense_features])"
   ]
  },
  {
   "cell_type": "code",
   "execution_count": 236,
   "id": "7bad6cff",
   "metadata": {},
   "outputs": [],
   "source": [
    "# 2.count #unique features for each sparse field,and record dense feature field name\n",
    "fixlen_feature_columns = [SparseFeat(feat, vocabulary_size=datas[feat].max() + 1, embedding_dim=4)\n",
    "                          for i, feat in enumerate(sparse_features)] + [DenseFeat(feat, 1, ) for feat in dense_features]"
   ]
  },
  {
   "cell_type": "code",
   "execution_count": 237,
   "id": "7703e3db",
   "metadata": {},
   "outputs": [],
   "source": [
    "#特征共用，放给低维linear_feature_columns和高维dnn_feature_columns\n",
    "dnn_feature_columns = fixlen_feature_columns\n",
    "linear_feature_columns = fixlen_feature_columns"
   ]
  },
  {
   "cell_type": "code",
   "execution_count": 238,
   "id": "196b10bf",
   "metadata": {},
   "outputs": [],
   "source": [
    "feature_names = get_feature_names(linear_feature_columns + dnn_feature_columns)"
   ]
  },
  {
   "cell_type": "code",
   "execution_count": 239,
   "id": "bd47ec44",
   "metadata": {},
   "outputs": [],
   "source": [
    "# 3.generate input data for model\n",
    "# train, test = train_test_split(datas, test_size=0.2, random_state=2020)\n",
    "# 数据集切分\n",
    "train = datas[datas['subscribe'].notnull()]\n",
    "test = datas[datas['subscribe'].isnull()]\n",
    "test.drop(['subscribe'], axis=1, inplace=True)"
   ]
  },
  {
   "cell_type": "code",
   "execution_count": 240,
   "id": "2ae260ac",
   "metadata": {},
   "outputs": [],
   "source": [
    "#增加检验，此种方式拆分的结果比使用deepctr.fit自带的拆分更稳定\n",
    "train_X,eval_X,train_y,eval_y = train_test_split(train[feature_names], train[target], test_size=0.2, random_state=2022, stratify=train[target])"
   ]
  },
  {
   "cell_type": "code",
   "execution_count": 241,
   "id": "c9f8e4e7",
   "metadata": {},
   "outputs": [],
   "source": [
    "train_model_input = {name: train_X[name] for name in feature_names}\n",
    "eval_model_input = {name: eval_X[name] for name in feature_names}\n",
    "test_model_input = {name: test[name] for name in feature_names}"
   ]
  },
  {
   "cell_type": "code",
   "execution_count": 242,
   "id": "cb2ad612",
   "metadata": {},
   "outputs": [],
   "source": [
    "# 4.Define Model,train,predict and evaluate\n",
    "model = DeepFM(linear_feature_columns, dnn_feature_columns, task='binary')\n",
    "model.compile(\"adam\", \"binary_crossentropy\", metrics=['binary_crossentropy','accuracy'], )"
   ]
  },
  {
   "cell_type": "code",
   "execution_count": 243,
   "id": "8b0ec0ca",
   "metadata": {},
   "outputs": [
    {
     "name": "stdout",
     "output_type": "stream",
     "text": [
      "Epoch 1/10\n",
      "71/71 - 1s - loss: 0.4310 - binary_crossentropy: 0.4310 - accuracy: 0.8014 - val_loss: 0.3277 - val_binary_crossentropy: 0.3276 - val_accuracy: 0.8716\n",
      "Epoch 2/10\n",
      "71/71 - 0s - loss: 0.3127 - binary_crossentropy: 0.3126 - accuracy: 0.8727 - val_loss: 0.3095 - val_binary_crossentropy: 0.3094 - val_accuracy: 0.8709\n",
      "Epoch 3/10\n",
      "71/71 - 0s - loss: 0.3045 - binary_crossentropy: 0.3045 - accuracy: 0.8739 - val_loss: 0.3046 - val_binary_crossentropy: 0.3045 - val_accuracy: 0.8713\n",
      "Epoch 4/10\n",
      "71/71 - 0s - loss: 0.2944 - binary_crossentropy: 0.2944 - accuracy: 0.8773 - val_loss: 0.2958 - val_binary_crossentropy: 0.2957 - val_accuracy: 0.8700\n",
      "Epoch 5/10\n",
      "71/71 - 0s - loss: 0.2804 - binary_crossentropy: 0.2804 - accuracy: 0.8789 - val_loss: 0.2821 - val_binary_crossentropy: 0.2821 - val_accuracy: 0.8747\n",
      "Epoch 6/10\n",
      "71/71 - 0s - loss: 0.2655 - binary_crossentropy: 0.2654 - accuracy: 0.8824 - val_loss: 0.2799 - val_binary_crossentropy: 0.2799 - val_accuracy: 0.8740\n",
      "Epoch 7/10\n",
      "71/71 - 0s - loss: 0.2577 - binary_crossentropy: 0.2577 - accuracy: 0.8852 - val_loss: 0.2713 - val_binary_crossentropy: 0.2713 - val_accuracy: 0.8780\n",
      "Epoch 8/10\n",
      "71/71 - 0s - loss: 0.2531 - binary_crossentropy: 0.2531 - accuracy: 0.8865 - val_loss: 0.2753 - val_binary_crossentropy: 0.2753 - val_accuracy: 0.8760\n",
      "Epoch 9/10\n",
      "71/71 - 0s - loss: 0.2495 - binary_crossentropy: 0.2495 - accuracy: 0.8891 - val_loss: 0.2707 - val_binary_crossentropy: 0.2707 - val_accuracy: 0.8796\n",
      "Epoch 10/10\n",
      "71/71 - 0s - loss: 0.2455 - binary_crossentropy: 0.2454 - accuracy: 0.8900 - val_loss: 0.2708 - val_binary_crossentropy: 0.2708 - val_accuracy: 0.8753\n"
     ]
    }
   ],
   "source": [
    "# history = model.fit(train_model_input, train[target].values, batch_size=256, epochs=10, verbose=2, validation_split=0.2, )\n",
    "\n",
    "history = model.fit(train_model_input, train_y.values, batch_size=256, epochs=10, verbose=2, \n",
    "                    validation_data=(eval_model_input, eval_y.values),)# validation_batch_size=50)"
   ]
  },
  {
   "cell_type": "code",
   "execution_count": 244,
   "id": "fa803a1a",
   "metadata": {},
   "outputs": [],
   "source": [
    "pred_ans = model.predict(test_model_input, batch_size=256)\n",
    "# print(\"test LogLoss\", round(log_loss(test[target].values, pred_ans), 4))\n",
    "# print(\"test AUC\", round(roc_auc_score(test[target].values, pred_ans), 4))"
   ]
  },
  {
   "cell_type": "code",
   "execution_count": 245,
   "id": "5357811f",
   "metadata": {},
   "outputs": [
    {
     "data": {
      "text/plain": [
       "array([[0.05140117],\n",
       "       [0.07697779],\n",
       "       [0.00834781],\n",
       "       ...,\n",
       "       [0.34546733],\n",
       "       [0.01153201],\n",
       "       [0.03590134]], dtype=float32)"
      ]
     },
     "execution_count": 245,
     "metadata": {},
     "output_type": "execute_result"
    }
   ],
   "source": [
    "pred_ans"
   ]
  },
  {
   "cell_type": "code",
   "execution_count": 246,
   "id": "768bf50b",
   "metadata": {},
   "outputs": [],
   "source": [
    "y_pred = [0 if x < 0.5 else 1 for x in pred_ans]"
   ]
  },
  {
   "cell_type": "code",
   "execution_count": 247,
   "id": "20320462",
   "metadata": {},
   "outputs": [],
   "source": [
    "subscribe_map = {0: 'no', 1: 'yes'}"
   ]
  },
  {
   "cell_type": "code",
   "execution_count": 248,
   "id": "97cb3853",
   "metadata": {},
   "outputs": [],
   "source": [
    "submission = pd.read_csv('./data/sample_submission.csv')\n",
    "submission['subscribe'] = [subscribe_map[x] for x in y_pred]\n",
    "submission.to_csv('./submission/submission_labelencoder_DeepFM.csv', index=None)"
   ]
  },
  {
   "cell_type": "code",
   "execution_count": null,
   "id": "61a28803",
   "metadata": {},
   "outputs": [],
   "source": []
  },
  {
   "cell_type": "markdown",
   "id": "dd6bfb10",
   "metadata": {},
   "source": [
    "## targetencoser"
   ]
  },
  {
   "cell_type": "code",
   "execution_count": 36,
   "id": "9e5317f2",
   "metadata": {},
   "outputs": [],
   "source": [
    "train2 = train_data.copy()\n",
    "test2 = test_data.copy()"
   ]
  },
  {
   "cell_type": "code",
   "execution_count": 37,
   "id": "d9dc6b0d",
   "metadata": {},
   "outputs": [],
   "source": [
    "train2['subscribe'] = train2['subscribe'].map({'no': 0, 'yes': 1})"
   ]
  },
  {
   "cell_type": "code",
   "execution_count": 38,
   "id": "cb567a2b",
   "metadata": {},
   "outputs": [],
   "source": [
    "cat_columns = test_data.select_dtypes(include='O').columns"
   ]
  },
  {
   "cell_type": "code",
   "execution_count": 39,
   "id": "6220d36b",
   "metadata": {},
   "outputs": [],
   "source": [
    "for col in cat_columns:\n",
    "    temp = train2.groupby(col)['subscribe'].agg(['mean', 'std', 'count']).reset_index()\n",
    "    temp.columns = [col, col + '_mean', col + '_std', col + '_count']\n",
    "    train2 = train2.merge(temp, on=col, how= 'left')\n",
    "    test2 = test2.merge(temp, on=col, how= 'left')"
   ]
  },
  {
   "cell_type": "code",
   "execution_count": 40,
   "id": "ad51dc8d",
   "metadata": {},
   "outputs": [],
   "source": [
    "train2.drop(columns=['RecordID'], inplace=True)\n",
    "train2.drop(columns=cat_columns, inplace=True)\n",
    "\n",
    "test2.drop(columns=['RecordID'], inplace=True)\n",
    "test2.drop(columns=cat_columns, inplace=True)"
   ]
  },
  {
   "cell_type": "code",
   "execution_count": 41,
   "id": "f70668a2",
   "metadata": {},
   "outputs": [],
   "source": [
    "train2['total_contact'] = train2['campaign'] + train2['previous']\n",
    "train2['contact_diff'] = train2['campaign'] - train2['previous']\n",
    "\n",
    "test2['total_contact'] = test2['campaign'] + test2['previous']\n",
    "test2['contact_diff'] = test2['campaign'] - test2['previous']"
   ]
  },
  {
   "cell_type": "code",
   "execution_count": 42,
   "id": "0aa9a844",
   "metadata": {},
   "outputs": [],
   "source": [
    "datas2 = pd.concat([train2, test2], axis=0)"
   ]
  },
  {
   "cell_type": "code",
   "execution_count": 43,
   "id": "4ca88a05",
   "metadata": {},
   "outputs": [],
   "source": [
    "sparse_features = datas2.select_dtypes(include='O').columns\n",
    "dense_features = datas2.select_dtypes(exclude='O').columns"
   ]
  },
  {
   "cell_type": "code",
   "execution_count": 44,
   "id": "d32a5f57",
   "metadata": {},
   "outputs": [
    {
     "data": {
      "text/plain": [
       "Index(['age', 'duration', 'campaign', 'pdays', 'previous', 'emp.var.rate',\n",
       "       'cons.price.idx', 'cons.conf.idx', 'euribor3m', 'nr.employed',\n",
       "       'subscribe', 'job_mean', 'job_std', 'job_count', 'marital_mean',\n",
       "       'marital_std', 'marital_count', 'education_mean', 'education_std',\n",
       "       'education_count', 'default_mean', 'default_std', 'default_count',\n",
       "       'housing_mean', 'housing_std', 'housing_count', 'loan_mean', 'loan_std',\n",
       "       'loan_count', 'contact_mean', 'contact_std', 'contact_count',\n",
       "       'month_mean', 'month_std', 'month_count', 'day_of_week_mean',\n",
       "       'day_of_week_std', 'day_of_week_count', 'poutcome_mean', 'poutcome_std',\n",
       "       'poutcome_count'],\n",
       "      dtype='object')"
      ]
     },
     "execution_count": 44,
     "metadata": {},
     "output_type": "execute_result"
    }
   ],
   "source": [
    "dense_features"
   ]
  },
  {
   "cell_type": "code",
   "execution_count": 45,
   "id": "67acbee7",
   "metadata": {},
   "outputs": [],
   "source": [
    "dense_features = dense_features.delete(dense_features.get_loc('subscribe'))"
   ]
  },
  {
   "cell_type": "code",
   "execution_count": 46,
   "id": "2d727ecd",
   "metadata": {},
   "outputs": [],
   "source": [
    "target = ['subscribe']"
   ]
  },
  {
   "cell_type": "code",
   "execution_count": 47,
   "id": "d72d32b4",
   "metadata": {},
   "outputs": [],
   "source": [
    "# 1.Label Encoding for sparse features,and do simple Transformation for dense features\n",
    "for feat in sparse_features:\n",
    "    lbe = LabelEncoder()\n",
    "    datas2[feat] = lbe.fit_transform(datas2[feat])\n",
    "    \n",
    "mms = MinMaxScaler(feature_range=(0, 1))\n",
    "datas2[dense_features] = mms.fit_transform(datas2[dense_features])"
   ]
  },
  {
   "cell_type": "code",
   "execution_count": 48,
   "id": "92c15886",
   "metadata": {},
   "outputs": [],
   "source": [
    "# 2.count #unique features for each sparse field,and record dense feature field name\n",
    "fixlen_feature_columns = [SparseFeat(feat, vocabulary_size=datas2[feat].max() + 1, embedding_dim=4)\n",
    "                          for i, feat in enumerate(sparse_features)] + [DenseFeat(feat, 1, ) for feat in dense_features]"
   ]
  },
  {
   "cell_type": "code",
   "execution_count": 49,
   "id": "2eadba8d",
   "metadata": {},
   "outputs": [],
   "source": [
    "#特征共用，放给低维linear_feature_columns和高维dnn_feature_columns\n",
    "dnn_feature_columns = fixlen_feature_columns\n",
    "linear_feature_columns = fixlen_feature_columns"
   ]
  },
  {
   "cell_type": "code",
   "execution_count": 50,
   "id": "a985cf99",
   "metadata": {},
   "outputs": [],
   "source": [
    "feature_names = get_feature_names(linear_feature_columns + dnn_feature_columns)"
   ]
  },
  {
   "cell_type": "code",
   "execution_count": 51,
   "id": "3b509947",
   "metadata": {},
   "outputs": [],
   "source": [
    "# 3.generate input data for model\n",
    "# train, test = train_test_split(datas, test_size=0.2, random_state=2020)\n",
    "# 数据集切分\n",
    "train2 = datas2[datas2['subscribe'].notnull()]\n",
    "test2 = datas2[datas2['subscribe'].isnull()]\n",
    "test2.drop(['subscribe'], axis=1, inplace=True)"
   ]
  },
  {
   "cell_type": "code",
   "execution_count": 52,
   "id": "1a55e46f",
   "metadata": {},
   "outputs": [],
   "source": [
    "#增加检验，此种方式拆分的结果比使用deepctr.fit自带的拆分更稳定\n",
    "train2_X,eval2_X,train2_y,eval2_y = train_test_split(train2[feature_names], train2[target], test_size=0.2, random_state=2022, stratify=train2[target])"
   ]
  },
  {
   "cell_type": "code",
   "execution_count": 53,
   "id": "48da28de",
   "metadata": {},
   "outputs": [],
   "source": [
    "train2_model_input = {name: train2_X[name] for name in feature_names}\n",
    "eval2_model_input = {name: eval2_X[name] for name in feature_names}\n",
    "test2_model_input = {name: test2[name] for name in feature_names}"
   ]
  },
  {
   "cell_type": "code",
   "execution_count": 54,
   "id": "cd954dad",
   "metadata": {},
   "outputs": [],
   "source": [
    "# 4.Define Model,train,predict and evaluate\n",
    "model = DeepFM(linear_feature_columns, dnn_feature_columns, task='binary')\n",
    "model.compile(\"adam\", \"binary_crossentropy\", metrics=['binary_crossentropy','accuracy'], )"
   ]
  },
  {
   "cell_type": "code",
   "execution_count": 55,
   "id": "61d4352d",
   "metadata": {},
   "outputs": [
    {
     "name": "stdout",
     "output_type": "stream",
     "text": [
      "Epoch 1/10\n",
      "71/71 - 2s - loss: 0.3867 - binary_crossentropy: 0.3867 - accuracy: 0.8428 - val_loss: 0.3272 - val_binary_crossentropy: 0.3272 - val_accuracy: 0.8656\n",
      "Epoch 2/10\n",
      "71/71 - 1s - loss: 0.3173 - binary_crossentropy: 0.3173 - accuracy: 0.8717 - val_loss: 0.3178 - val_binary_crossentropy: 0.3178 - val_accuracy: 0.8704\n",
      "Epoch 3/10\n",
      "71/71 - 1s - loss: 0.3116 - binary_crossentropy: 0.3116 - accuracy: 0.8748 - val_loss: 0.3124 - val_binary_crossentropy: 0.3123 - val_accuracy: 0.8738\n",
      "Epoch 4/10\n",
      "71/71 - 1s - loss: 0.3079 - binary_crossentropy: 0.3079 - accuracy: 0.8749 - val_loss: 0.3093 - val_binary_crossentropy: 0.3093 - val_accuracy: 0.8736\n",
      "Epoch 5/10\n",
      "71/71 - 1s - loss: 0.3021 - binary_crossentropy: 0.3021 - accuracy: 0.8770 - val_loss: 0.3068 - val_binary_crossentropy: 0.3068 - val_accuracy: 0.8724\n",
      "Epoch 6/10\n",
      "71/71 - 1s - loss: 0.2948 - binary_crossentropy: 0.2948 - accuracy: 0.8791 - val_loss: 0.3034 - val_binary_crossentropy: 0.3033 - val_accuracy: 0.8769\n",
      "Epoch 7/10\n",
      "71/71 - 1s - loss: 0.2881 - binary_crossentropy: 0.2881 - accuracy: 0.8801 - val_loss: 0.3022 - val_binary_crossentropy: 0.3022 - val_accuracy: 0.8753\n",
      "Epoch 8/10\n",
      "71/71 - 1s - loss: 0.2788 - binary_crossentropy: 0.2788 - accuracy: 0.8837 - val_loss: 0.2875 - val_binary_crossentropy: 0.2875 - val_accuracy: 0.8744\n",
      "Epoch 9/10\n",
      "71/71 - 1s - loss: 0.2723 - binary_crossentropy: 0.2722 - accuracy: 0.8842 - val_loss: 0.2824 - val_binary_crossentropy: 0.2824 - val_accuracy: 0.8789\n",
      "Epoch 10/10\n",
      "71/71 - 1s - loss: 0.2595 - binary_crossentropy: 0.2595 - accuracy: 0.8893 - val_loss: 0.2793 - val_binary_crossentropy: 0.2793 - val_accuracy: 0.8764\n"
     ]
    }
   ],
   "source": [
    "# history = model.fit(train_model_input, train[target].values, batch_size=256, epochs=10, verbose=2, validation_split=0.2, )\n",
    "\n",
    "history = model.fit(train2_model_input, train2_y.values, batch_size=256, epochs=10, verbose=2, \n",
    "                    validation_data=(eval2_model_input, eval2_y.values),)# validation_batch_size=50)"
   ]
  },
  {
   "cell_type": "code",
   "execution_count": 56,
   "id": "fba56d58",
   "metadata": {},
   "outputs": [],
   "source": [
    "pred_ans = model.predict(test2_model_input, batch_size=256)\n",
    "# print(\"test LogLoss\", round(log_loss(test[target].values, pred_ans), 4))\n",
    "# print(\"test AUC\", round(roc_auc_score(test[target].values, pred_ans), 4))"
   ]
  },
  {
   "cell_type": "code",
   "execution_count": 57,
   "id": "83d38400",
   "metadata": {},
   "outputs": [],
   "source": [
    "y_pred = [0 if x < 0.5 else 1 for x in pred_ans]"
   ]
  },
  {
   "cell_type": "code",
   "execution_count": 58,
   "id": "278a2aec",
   "metadata": {},
   "outputs": [],
   "source": [
    "subscribe_map = {0: 'no', 1: 'yes'}\n",
    "submission = pd.read_csv('./data/sample_submission.csv')\n",
    "submission['subscribe'] = [subscribe_map[x] for x in y_pred]\n",
    "submission.to_csv('./submission/submission_targetcoder_DeepFM.csv', index=None)"
   ]
  },
  {
   "cell_type": "markdown",
   "id": "6ad6c553",
   "metadata": {},
   "source": [
    "## onehot encoder"
   ]
  },
  {
   "cell_type": "code",
   "execution_count": 59,
   "id": "fb37e2c3",
   "metadata": {},
   "outputs": [],
   "source": [
    "datas3 = pd.concat([train_data, test_data], axis=0)"
   ]
  },
  {
   "cell_type": "code",
   "execution_count": 60,
   "id": "772aba0a",
   "metadata": {},
   "outputs": [],
   "source": [
    "datas3['subscribe'] = datas3['subscribe'].map({'no': 0, 'yes': 1})"
   ]
  },
  {
   "cell_type": "code",
   "execution_count": 61,
   "id": "7394ead3",
   "metadata": {},
   "outputs": [],
   "source": [
    "datas3 = pd.get_dummies(datas3)"
   ]
  },
  {
   "cell_type": "code",
   "execution_count": 62,
   "id": "6ceef41a",
   "metadata": {},
   "outputs": [
    {
     "data": {
      "text/html": [
       "<div>\n",
       "<style scoped>\n",
       "    .dataframe tbody tr th:only-of-type {\n",
       "        vertical-align: middle;\n",
       "    }\n",
       "\n",
       "    .dataframe tbody tr th {\n",
       "        vertical-align: top;\n",
       "    }\n",
       "\n",
       "    .dataframe thead th {\n",
       "        text-align: right;\n",
       "    }\n",
       "</style>\n",
       "<table border=\"1\" class=\"dataframe\">\n",
       "  <thead>\n",
       "    <tr style=\"text-align: right;\">\n",
       "      <th></th>\n",
       "      <th>RecordID</th>\n",
       "      <th>age</th>\n",
       "      <th>duration</th>\n",
       "      <th>campaign</th>\n",
       "      <th>pdays</th>\n",
       "      <th>previous</th>\n",
       "      <th>emp.var.rate</th>\n",
       "      <th>cons.price.idx</th>\n",
       "      <th>cons.conf.idx</th>\n",
       "      <th>euribor3m</th>\n",
       "      <th>...</th>\n",
       "      <th>month_oct</th>\n",
       "      <th>month_sep</th>\n",
       "      <th>day_of_week_fri</th>\n",
       "      <th>day_of_week_mon</th>\n",
       "      <th>day_of_week_thu</th>\n",
       "      <th>day_of_week_tue</th>\n",
       "      <th>day_of_week_wed</th>\n",
       "      <th>poutcome_failure</th>\n",
       "      <th>poutcome_nonexistent</th>\n",
       "      <th>poutcome_success</th>\n",
       "    </tr>\n",
       "  </thead>\n",
       "  <tbody>\n",
       "    <tr>\n",
       "      <th>0</th>\n",
       "      <td>13783</td>\n",
       "      <td>49</td>\n",
       "      <td>4457</td>\n",
       "      <td>1</td>\n",
       "      <td>115</td>\n",
       "      <td>2</td>\n",
       "      <td>1.4</td>\n",
       "      <td>92.479703</td>\n",
       "      <td>-35.498996</td>\n",
       "      <td>0.705058</td>\n",
       "      <td>...</td>\n",
       "      <td>0</td>\n",
       "      <td>0</td>\n",
       "      <td>0</td>\n",
       "      <td>1</td>\n",
       "      <td>0</td>\n",
       "      <td>0</td>\n",
       "      <td>0</td>\n",
       "      <td>1</td>\n",
       "      <td>0</td>\n",
       "      <td>0</td>\n",
       "    </tr>\n",
       "    <tr>\n",
       "      <th>1</th>\n",
       "      <td>23986</td>\n",
       "      <td>52</td>\n",
       "      <td>4797</td>\n",
       "      <td>1</td>\n",
       "      <td>402</td>\n",
       "      <td>2</td>\n",
       "      <td>-1.8</td>\n",
       "      <td>93.439161</td>\n",
       "      <td>-39.331320</td>\n",
       "      <td>4.245479</td>\n",
       "      <td>...</td>\n",
       "      <td>0</td>\n",
       "      <td>0</td>\n",
       "      <td>0</td>\n",
       "      <td>1</td>\n",
       "      <td>0</td>\n",
       "      <td>0</td>\n",
       "      <td>0</td>\n",
       "      <td>0</td>\n",
       "      <td>1</td>\n",
       "      <td>0</td>\n",
       "    </tr>\n",
       "    <tr>\n",
       "      <th>2</th>\n",
       "      <td>20663</td>\n",
       "      <td>46</td>\n",
       "      <td>169</td>\n",
       "      <td>1</td>\n",
       "      <td>999</td>\n",
       "      <td>1</td>\n",
       "      <td>-1.8</td>\n",
       "      <td>93.075000</td>\n",
       "      <td>-47.100000</td>\n",
       "      <td>1.445000</td>\n",
       "      <td>...</td>\n",
       "      <td>0</td>\n",
       "      <td>0</td>\n",
       "      <td>0</td>\n",
       "      <td>0</td>\n",
       "      <td>0</td>\n",
       "      <td>0</td>\n",
       "      <td>1</td>\n",
       "      <td>1</td>\n",
       "      <td>0</td>\n",
       "      <td>0</td>\n",
       "    </tr>\n",
       "    <tr>\n",
       "      <th>3</th>\n",
       "      <td>13958</td>\n",
       "      <td>26</td>\n",
       "      <td>376</td>\n",
       "      <td>28</td>\n",
       "      <td>999</td>\n",
       "      <td>0</td>\n",
       "      <td>1.4</td>\n",
       "      <td>93.444000</td>\n",
       "      <td>-36.100000</td>\n",
       "      <td>4.967000</td>\n",
       "      <td>...</td>\n",
       "      <td>0</td>\n",
       "      <td>0</td>\n",
       "      <td>1</td>\n",
       "      <td>0</td>\n",
       "      <td>0</td>\n",
       "      <td>0</td>\n",
       "      <td>0</td>\n",
       "      <td>0</td>\n",
       "      <td>1</td>\n",
       "      <td>0</td>\n",
       "    </tr>\n",
       "    <tr>\n",
       "      <th>4</th>\n",
       "      <td>28184</td>\n",
       "      <td>47</td>\n",
       "      <td>3033</td>\n",
       "      <td>1</td>\n",
       "      <td>252</td>\n",
       "      <td>4</td>\n",
       "      <td>-3.4</td>\n",
       "      <td>94.352376</td>\n",
       "      <td>-33.073620</td>\n",
       "      <td>1.208702</td>\n",
       "      <td>...</td>\n",
       "      <td>0</td>\n",
       "      <td>0</td>\n",
       "      <td>0</td>\n",
       "      <td>0</td>\n",
       "      <td>0</td>\n",
       "      <td>1</td>\n",
       "      <td>0</td>\n",
       "      <td>0</td>\n",
       "      <td>0</td>\n",
       "      <td>1</td>\n",
       "    </tr>\n",
       "    <tr>\n",
       "      <th>...</th>\n",
       "      <td>...</td>\n",
       "      <td>...</td>\n",
       "      <td>...</td>\n",
       "      <td>...</td>\n",
       "      <td>...</td>\n",
       "      <td>...</td>\n",
       "      <td>...</td>\n",
       "      <td>...</td>\n",
       "      <td>...</td>\n",
       "      <td>...</td>\n",
       "      <td>...</td>\n",
       "      <td>...</td>\n",
       "      <td>...</td>\n",
       "      <td>...</td>\n",
       "      <td>...</td>\n",
       "      <td>...</td>\n",
       "      <td>...</td>\n",
       "      <td>...</td>\n",
       "      <td>...</td>\n",
       "      <td>...</td>\n",
       "      <td>...</td>\n",
       "    </tr>\n",
       "    <tr>\n",
       "      <th>7495</th>\n",
       "      <td>25105</td>\n",
       "      <td>50</td>\n",
       "      <td>3969</td>\n",
       "      <td>48</td>\n",
       "      <td>290</td>\n",
       "      <td>1</td>\n",
       "      <td>-1.8</td>\n",
       "      <td>94.077494</td>\n",
       "      <td>-39.985944</td>\n",
       "      <td>3.709514</td>\n",
       "      <td>...</td>\n",
       "      <td>0</td>\n",
       "      <td>0</td>\n",
       "      <td>1</td>\n",
       "      <td>0</td>\n",
       "      <td>0</td>\n",
       "      <td>0</td>\n",
       "      <td>0</td>\n",
       "      <td>1</td>\n",
       "      <td>0</td>\n",
       "      <td>0</td>\n",
       "    </tr>\n",
       "    <tr>\n",
       "      <th>7496</th>\n",
       "      <td>13297</td>\n",
       "      <td>35</td>\n",
       "      <td>596</td>\n",
       "      <td>8</td>\n",
       "      <td>424</td>\n",
       "      <td>3</td>\n",
       "      <td>1.4</td>\n",
       "      <td>93.302019</td>\n",
       "      <td>-49.737088</td>\n",
       "      <td>1.766907</td>\n",
       "      <td>...</td>\n",
       "      <td>0</td>\n",
       "      <td>0</td>\n",
       "      <td>0</td>\n",
       "      <td>0</td>\n",
       "      <td>0</td>\n",
       "      <td>0</td>\n",
       "      <td>1</td>\n",
       "      <td>1</td>\n",
       "      <td>0</td>\n",
       "      <td>0</td>\n",
       "    </tr>\n",
       "    <tr>\n",
       "      <th>7497</th>\n",
       "      <td>26780</td>\n",
       "      <td>53</td>\n",
       "      <td>107</td>\n",
       "      <td>3</td>\n",
       "      <td>999</td>\n",
       "      <td>0</td>\n",
       "      <td>-2.9</td>\n",
       "      <td>92.963000</td>\n",
       "      <td>-40.800000</td>\n",
       "      <td>1.281000</td>\n",
       "      <td>...</td>\n",
       "      <td>0</td>\n",
       "      <td>0</td>\n",
       "      <td>0</td>\n",
       "      <td>1</td>\n",
       "      <td>0</td>\n",
       "      <td>0</td>\n",
       "      <td>0</td>\n",
       "      <td>0</td>\n",
       "      <td>1</td>\n",
       "      <td>0</td>\n",
       "    </tr>\n",
       "    <tr>\n",
       "      <th>7498</th>\n",
       "      <td>16186</td>\n",
       "      <td>32</td>\n",
       "      <td>172</td>\n",
       "      <td>3</td>\n",
       "      <td>999</td>\n",
       "      <td>0</td>\n",
       "      <td>1.4</td>\n",
       "      <td>93.444000</td>\n",
       "      <td>-36.100000</td>\n",
       "      <td>4.963000</td>\n",
       "      <td>...</td>\n",
       "      <td>0</td>\n",
       "      <td>0</td>\n",
       "      <td>0</td>\n",
       "      <td>0</td>\n",
       "      <td>1</td>\n",
       "      <td>0</td>\n",
       "      <td>0</td>\n",
       "      <td>0</td>\n",
       "      <td>1</td>\n",
       "      <td>0</td>\n",
       "    </tr>\n",
       "    <tr>\n",
       "      <th>7499</th>\n",
       "      <td>16692</td>\n",
       "      <td>45</td>\n",
       "      <td>1802</td>\n",
       "      <td>3</td>\n",
       "      <td>391</td>\n",
       "      <td>3</td>\n",
       "      <td>1.4</td>\n",
       "      <td>93.655575</td>\n",
       "      <td>-31.737644</td>\n",
       "      <td>3.694951</td>\n",
       "      <td>...</td>\n",
       "      <td>0</td>\n",
       "      <td>0</td>\n",
       "      <td>0</td>\n",
       "      <td>1</td>\n",
       "      <td>0</td>\n",
       "      <td>0</td>\n",
       "      <td>0</td>\n",
       "      <td>0</td>\n",
       "      <td>0</td>\n",
       "      <td>1</td>\n",
       "    </tr>\n",
       "  </tbody>\n",
       "</table>\n",
       "<p>30000 rows × 65 columns</p>\n",
       "</div>"
      ],
      "text/plain": [
       "      RecordID  age  duration  campaign  pdays  previous  emp.var.rate  \\\n",
       "0        13783   49      4457         1    115         2           1.4   \n",
       "1        23986   52      4797         1    402         2          -1.8   \n",
       "2        20663   46       169         1    999         1          -1.8   \n",
       "3        13958   26       376        28    999         0           1.4   \n",
       "4        28184   47      3033         1    252         4          -3.4   \n",
       "...        ...  ...       ...       ...    ...       ...           ...   \n",
       "7495     25105   50      3969        48    290         1          -1.8   \n",
       "7496     13297   35       596         8    424         3           1.4   \n",
       "7497     26780   53       107         3    999         0          -2.9   \n",
       "7498     16186   32       172         3    999         0           1.4   \n",
       "7499     16692   45      1802         3    391         3           1.4   \n",
       "\n",
       "      cons.price.idx  cons.conf.idx  euribor3m  ...  month_oct  month_sep  \\\n",
       "0          92.479703     -35.498996   0.705058  ...          0          0   \n",
       "1          93.439161     -39.331320   4.245479  ...          0          0   \n",
       "2          93.075000     -47.100000   1.445000  ...          0          0   \n",
       "3          93.444000     -36.100000   4.967000  ...          0          0   \n",
       "4          94.352376     -33.073620   1.208702  ...          0          0   \n",
       "...              ...            ...        ...  ...        ...        ...   \n",
       "7495       94.077494     -39.985944   3.709514  ...          0          0   \n",
       "7496       93.302019     -49.737088   1.766907  ...          0          0   \n",
       "7497       92.963000     -40.800000   1.281000  ...          0          0   \n",
       "7498       93.444000     -36.100000   4.963000  ...          0          0   \n",
       "7499       93.655575     -31.737644   3.694951  ...          0          0   \n",
       "\n",
       "      day_of_week_fri  day_of_week_mon  day_of_week_thu  day_of_week_tue  \\\n",
       "0                   0                1                0                0   \n",
       "1                   0                1                0                0   \n",
       "2                   0                0                0                0   \n",
       "3                   1                0                0                0   \n",
       "4                   0                0                0                1   \n",
       "...               ...              ...              ...              ...   \n",
       "7495                1                0                0                0   \n",
       "7496                0                0                0                0   \n",
       "7497                0                1                0                0   \n",
       "7498                0                0                1                0   \n",
       "7499                0                1                0                0   \n",
       "\n",
       "      day_of_week_wed  poutcome_failure  poutcome_nonexistent  \\\n",
       "0                   0                 1                     0   \n",
       "1                   0                 0                     1   \n",
       "2                   1                 1                     0   \n",
       "3                   0                 0                     1   \n",
       "4                   0                 0                     0   \n",
       "...               ...               ...                   ...   \n",
       "7495                0                 1                     0   \n",
       "7496                1                 1                     0   \n",
       "7497                0                 0                     1   \n",
       "7498                0                 0                     1   \n",
       "7499                0                 0                     0   \n",
       "\n",
       "      poutcome_success  \n",
       "0                    0  \n",
       "1                    0  \n",
       "2                    0  \n",
       "3                    0  \n",
       "4                    1  \n",
       "...                ...  \n",
       "7495                 0  \n",
       "7496                 0  \n",
       "7497                 0  \n",
       "7498                 0  \n",
       "7499                 1  \n",
       "\n",
       "[30000 rows x 65 columns]"
      ]
     },
     "execution_count": 62,
     "metadata": {},
     "output_type": "execute_result"
    }
   ],
   "source": [
    "datas3"
   ]
  },
  {
   "cell_type": "code",
   "execution_count": 63,
   "id": "1bb3958e",
   "metadata": {},
   "outputs": [],
   "source": [
    "#去掉ID\n",
    "datas3.drop(['RecordID'], axis=1, inplace=True)"
   ]
  },
  {
   "cell_type": "code",
   "execution_count": 64,
   "id": "ccea825a",
   "metadata": {},
   "outputs": [],
   "source": [
    "datas3['total_contact'] = datas3['campaign'] + datas3['previous']\n",
    "datas3['contact_diff'] = datas3['campaign'] - datas3['previous']"
   ]
  },
  {
   "cell_type": "code",
   "execution_count": 66,
   "id": "6999adb1",
   "metadata": {},
   "outputs": [],
   "source": [
    "sparse_features = datas3.select_dtypes(include='O').columns\n",
    "dense_features = datas3.select_dtypes(exclude='O').columns"
   ]
  },
  {
   "cell_type": "code",
   "execution_count": 70,
   "id": "52e7adaf",
   "metadata": {},
   "outputs": [
    {
     "data": {
      "text/plain": [
       "Index(['age', 'duration', 'campaign', 'pdays', 'previous', 'emp.var.rate',\n",
       "       'cons.price.idx', 'cons.conf.idx', 'euribor3m', 'nr.employed',\n",
       "       'subscribe', 'job_admin.', 'job_blue-collar', 'job_entrepreneur',\n",
       "       'job_housemaid', 'job_management', 'job_retired', 'job_self-employed',\n",
       "       'job_services', 'job_student', 'job_technician', 'job_unemployed',\n",
       "       'job_unknown', 'marital_divorced', 'marital_married', 'marital_single',\n",
       "       'marital_unknown', 'education_basic.4y', 'education_basic.6y',\n",
       "       'education_basic.9y', 'education_high.school', 'education_illiterate',\n",
       "       'education_professional.course', 'education_university.degree',\n",
       "       'education_unknown', 'default_no', 'default_unknown', 'default_yes',\n",
       "       'housing_no', 'housing_unknown', 'housing_yes', 'loan_no',\n",
       "       'loan_unknown', 'loan_yes', 'contact_cellular', 'contact_telephone',\n",
       "       'month_apr', 'month_aug', 'month_dec', 'month_jul', 'month_jun',\n",
       "       'month_mar', 'month_may', 'month_nov', 'month_oct', 'month_sep',\n",
       "       'day_of_week_fri', 'day_of_week_mon', 'day_of_week_thu',\n",
       "       'day_of_week_tue', 'day_of_week_wed', 'poutcome_failure',\n",
       "       'poutcome_nonexistent', 'poutcome_success', 'total_contact',\n",
       "       'contact_diff'],\n",
       "      dtype='object')"
      ]
     },
     "execution_count": 70,
     "metadata": {},
     "output_type": "execute_result"
    }
   ],
   "source": [
    "dense_features"
   ]
  },
  {
   "cell_type": "code",
   "execution_count": 71,
   "id": "c458d96d",
   "metadata": {},
   "outputs": [],
   "source": [
    "dense_features = dense_features.delete(dense_features.get_loc('subscribe'))"
   ]
  },
  {
   "cell_type": "code",
   "execution_count": 72,
   "id": "4ca29bce",
   "metadata": {},
   "outputs": [],
   "source": [
    "target = ['subscribe']"
   ]
  },
  {
   "cell_type": "code",
   "execution_count": 74,
   "id": "aca360d8",
   "metadata": {},
   "outputs": [],
   "source": [
    "# 1.Label Encoding for sparse features,and do simple Transformation for dense features\n",
    "# for feat in sparse_features:\n",
    "#     lbe = LabelEncoder()\n",
    "#     datas[feat] = lbe.fit_transform(datas[feat])\n",
    "\n",
    "mms = MinMaxScaler(feature_range=(0, 1))\n",
    "datas3[dense_features] = mms.fit_transform(datas3[dense_features])"
   ]
  },
  {
   "cell_type": "code",
   "execution_count": 75,
   "id": "94c7922f",
   "metadata": {},
   "outputs": [],
   "source": [
    "# 2.count #unique features for each sparse field,and record dense feature field name\n",
    "fixlen_feature_columns = [SparseFeat(feat, vocabulary_size=datas[feat].max() + 1, embedding_dim=4)\n",
    "                          for i, feat in enumerate(sparse_features)] + [DenseFeat(feat, 1, ) for feat in dense_features]"
   ]
  },
  {
   "cell_type": "code",
   "execution_count": 77,
   "id": "2105c30e",
   "metadata": {},
   "outputs": [],
   "source": [
    "#特征共用，放给低维linear_feature_columns和高维dnn_feature_columns\n",
    "dnn_feature_columns = fixlen_feature_columns\n",
    "linear_feature_columns = fixlen_feature_columns"
   ]
  },
  {
   "cell_type": "code",
   "execution_count": 78,
   "id": "ca64d4fe",
   "metadata": {},
   "outputs": [],
   "source": [
    "feature_names = get_feature_names(linear_feature_columns + dnn_feature_columns)"
   ]
  },
  {
   "cell_type": "code",
   "execution_count": 81,
   "id": "b34dc292",
   "metadata": {},
   "outputs": [],
   "source": [
    "# 3.generate input data for model\n",
    "# train, test = train_test_split(datas, test_size=0.2, random_state=2020)\n",
    "# 数据集切分\n",
    "train3 = datas3[datas3['subscribe'].notnull()]\n",
    "test3 = datas3[datas3['subscribe'].isnull()]\n",
    "test3.drop(['subscribe'], axis=1, inplace=True)"
   ]
  },
  {
   "cell_type": "code",
   "execution_count": 83,
   "id": "b130a24b",
   "metadata": {},
   "outputs": [],
   "source": [
    "#增加检验，此种方式拆分的结果比使用deepctr.fit自带的拆分更稳定\n",
    "train3_X,eval3_X,train3_y,eval3_y = train_test_split(train3[feature_names], train3[target], test_size=0.2, random_state=2022, stratify=train3[target])"
   ]
  },
  {
   "cell_type": "code",
   "execution_count": 85,
   "id": "35bc2e8b",
   "metadata": {},
   "outputs": [],
   "source": [
    "train3_model_input = {name: train3_X[name] for name in feature_names}\n",
    "eval3_model_input = {name: eval3_X[name] for name in feature_names}\n",
    "test3_model_input = {name: test3[name] for name in feature_names}"
   ]
  },
  {
   "cell_type": "code",
   "execution_count": 86,
   "id": "465930c7",
   "metadata": {},
   "outputs": [],
   "source": [
    "# 4.Define Model,train,predict and evaluate\n",
    "model = DeepFM(linear_feature_columns, dnn_feature_columns, task='binary')\n",
    "model.compile(\"adam\", \"binary_crossentropy\", metrics=['binary_crossentropy','accuracy'], )"
   ]
  },
  {
   "cell_type": "code",
   "execution_count": 87,
   "id": "cdde567c",
   "metadata": {},
   "outputs": [
    {
     "name": "stdout",
     "output_type": "stream",
     "text": [
      "Epoch 1/10\n",
      "71/71 - 1s - loss: 0.3919 - binary_crossentropy: 0.3918 - accuracy: 0.8401 - val_loss: 0.3267 - val_binary_crossentropy: 0.3267 - val_accuracy: 0.8656\n",
      "Epoch 2/10\n",
      "71/71 - 0s - loss: 0.3170 - binary_crossentropy: 0.3170 - accuracy: 0.8703 - val_loss: 0.3171 - val_binary_crossentropy: 0.3171 - val_accuracy: 0.8673\n",
      "Epoch 3/10\n",
      "71/71 - 0s - loss: 0.3093 - binary_crossentropy: 0.3093 - accuracy: 0.8742 - val_loss: 0.3153 - val_binary_crossentropy: 0.3152 - val_accuracy: 0.8700\n",
      "Epoch 4/10\n",
      "71/71 - 0s - loss: 0.3028 - binary_crossentropy: 0.3027 - accuracy: 0.8774 - val_loss: 0.3120 - val_binary_crossentropy: 0.3120 - val_accuracy: 0.8702\n",
      "Epoch 5/10\n",
      "71/71 - 0s - loss: 0.2964 - binary_crossentropy: 0.2964 - accuracy: 0.8798 - val_loss: 0.3083 - val_binary_crossentropy: 0.3083 - val_accuracy: 0.8742\n",
      "Epoch 6/10\n",
      "71/71 - 0s - loss: 0.2889 - binary_crossentropy: 0.2889 - accuracy: 0.8844 - val_loss: 0.3081 - val_binary_crossentropy: 0.3080 - val_accuracy: 0.8758\n",
      "Epoch 7/10\n",
      "71/71 - 0s - loss: 0.2804 - binary_crossentropy: 0.2804 - accuracy: 0.8879 - val_loss: 0.3091 - val_binary_crossentropy: 0.3091 - val_accuracy: 0.8693\n",
      "Epoch 8/10\n",
      "71/71 - 0s - loss: 0.2685 - binary_crossentropy: 0.2685 - accuracy: 0.8931 - val_loss: 0.3143 - val_binary_crossentropy: 0.3143 - val_accuracy: 0.8693\n",
      "Epoch 9/10\n",
      "71/71 - 0s - loss: 0.2574 - binary_crossentropy: 0.2573 - accuracy: 0.8999 - val_loss: 0.3182 - val_binary_crossentropy: 0.3182 - val_accuracy: 0.8658\n",
      "Epoch 10/10\n",
      "71/71 - 0s - loss: 0.2428 - binary_crossentropy: 0.2428 - accuracy: 0.9020 - val_loss: 0.3193 - val_binary_crossentropy: 0.3192 - val_accuracy: 0.8713\n"
     ]
    }
   ],
   "source": [
    "history = model.fit(train3_model_input, train3_y.values, batch_size=256, epochs=10, verbose=2, \n",
    "                    validation_data=(eval3_model_input, eval3_y.values),)# validation_batch_size=50)"
   ]
  },
  {
   "cell_type": "code",
   "execution_count": 89,
   "id": "4b713581",
   "metadata": {},
   "outputs": [],
   "source": [
    "pred_ans = model.predict(test3_model_input, batch_size=256)\n",
    "# print(\"test LogLoss\", round(log_loss(test[target].values, pred_ans), 4))\n",
    "# print(\"test AUC\", round(roc_auc_score(test[target].values, pred_ans), 4))"
   ]
  },
  {
   "cell_type": "code",
   "execution_count": 90,
   "id": "dec2bce8",
   "metadata": {},
   "outputs": [
    {
     "data": {
      "text/plain": [
       "array([[0.01469934],\n",
       "       [0.0430117 ],\n",
       "       [0.01442838],\n",
       "       ...,\n",
       "       [0.28019732],\n",
       "       [0.01804689],\n",
       "       [0.02290502]], dtype=float32)"
      ]
     },
     "execution_count": 90,
     "metadata": {},
     "output_type": "execute_result"
    }
   ],
   "source": [
    "pred_ans"
   ]
  },
  {
   "cell_type": "code",
   "execution_count": 91,
   "id": "1f60deb2",
   "metadata": {},
   "outputs": [],
   "source": [
    "y_pred = [0 if x < 0.5 else 1 for x in pred_ans]"
   ]
  },
  {
   "cell_type": "code",
   "execution_count": 92,
   "id": "c3781139",
   "metadata": {},
   "outputs": [],
   "source": [
    "subscribe_map = {0: 'no', 1: 'yes'}\n",
    "submission = pd.read_csv('./data/sample_submission.csv')\n",
    "submission['subscribe'] = [subscribe_map[x] for x in y_pred]\n",
    "submission.to_csv('./submission/submission_onehot_DeepFM.csv', index=None)"
   ]
  },
  {
   "cell_type": "code",
   "execution_count": null,
   "id": "8c1658c0",
   "metadata": {},
   "outputs": [],
   "source": []
  },
  {
   "cell_type": "code",
   "execution_count": null,
   "id": "d147b4e3",
   "metadata": {},
   "outputs": [],
   "source": []
  }
 ],
 "metadata": {
  "kernelspec": {
   "display_name": "Python 3 (ipykernel)",
   "language": "python",
   "name": "python3"
  },
  "language_info": {
   "codemirror_mode": {
    "name": "ipython",
    "version": 3
   },
   "file_extension": ".py",
   "mimetype": "text/x-python",
   "name": "python",
   "nbconvert_exporter": "python",
   "pygments_lexer": "ipython3",
   "version": "3.7.11"
  }
 },
 "nbformat": 4,
 "nbformat_minor": 5
}
